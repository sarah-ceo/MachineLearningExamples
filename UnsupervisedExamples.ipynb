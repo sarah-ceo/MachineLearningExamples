{
 "cells": [
  {
   "cell_type": "markdown",
   "metadata": {
    "collapsed": true
   },
   "source": [
    "<u><h1>Testing some machine learning models on MNIST dataset</u>"
   ]
  },
  {
   "cell_type": "code",
   "execution_count": 1,
   "metadata": {},
   "outputs": [],
   "source": [
    "import numpy as np\n",
    "from tensorflow.keras.datasets import mnist\n",
    "from sklearn.cluster import MiniBatchKMeans\n",
    "from sklearn.metrics import accuracy_score\n",
    "from scipy.spatial.distance import cdist\n",
    "import matplotlib.pyplot as plt\n",
    "import tensorflow as tf\n",
    "import keras"
   ]
  },
  {
   "cell_type": "code",
   "execution_count": 2,
   "metadata": {
    "pycharm": {
     "name": "#%%\n"
    }
   },
   "outputs": [
    {
     "name": "stdout",
     "output_type": "stream",
     "text": [
      "(60000, 28, 28)\n"
     ]
    }
   ],
   "source": [
    "# Download MNIST\n",
    "(X_train, Y_train), (X_test, _) = mnist.load_data()\n",
    "\n",
    "# Print the shape of train dataset\n",
    "print(X_train.shape)"
   ]
  },
  {
   "cell_type": "code",
   "execution_count": 3,
   "metadata": {
    "pycharm": {
     "name": "#%%\n"
    }
   },
   "outputs": [
    {
     "name": "stdout",
     "output_type": "stream",
     "text": [
      "(60000, 784)\n"
     ]
    }
   ],
   "source": [
    "# Flatten the images\n",
    "X_train = X_train.reshape(len(X_train), -1)\n",
    "X_test = X_test.reshape(len(X_test), -1)\n",
    "print(X_train.shape)\n",
    "\n",
    "# Normalize data\n",
    "X_train = X_train.astype(np.float32) / 255.0\n",
    "X_test = X_test.astype(np.float32) / 255.0"
   ]
  },
  {
   "cell_type": "code",
   "execution_count": 4,
   "metadata": {
    "pycharm": {
     "name": "#%%\n"
    }
   },
   "outputs": [
    {
     "data": {
      "text/plain": [
       "MiniBatchKMeans(n_clusters=10, random_state=42)"
      ]
     },
     "execution_count": 4,
     "metadata": {},
     "output_type": "execute_result"
    }
   ],
   "source": [
    "# Try K-Means clustering\n",
    "n_clusters = 10\n",
    "kmeans = MiniBatchKMeans(n_clusters=n_clusters, random_state=42)\n",
    "kmeans.fit(X_train)"
   ]
  },
  {
   "cell_type": "code",
   "execution_count": 5,
   "metadata": {
    "pycharm": {
     "name": "#%%\n"
    }
   },
   "outputs": [
    {
     "name": "stdout",
     "output_type": "stream",
     "text": [
      "{0: 4, 1: 9, 2: 3, 3: 0, 4: 1, 5: 0, 6: 6, 7: 3, 8: 7, 9: 2}\n"
     ]
    }
   ],
   "source": [
    "def associate_labels(n_clusters, kmeans_clusters, Y_train):\n",
    "    true_labels = {}\n",
    "    for i in range(len(np.unique(kmeans_clusters))):\n",
    "        indices = np.where(kmeans_clusters == i)\n",
    "        digit = np.bincount(Y_train[indices]).argmax()\n",
    "        true_labels[i] = digit\n",
    "    return true_labels\n",
    "\n",
    "true_labels = associate_labels(n_clusters, kmeans.labels_, Y_train)\n",
    "print(true_labels)"
   ]
  },
  {
   "cell_type": "code",
   "execution_count": 6,
   "metadata": {
    "pycharm": {
     "name": "#%%\n"
    }
   },
   "outputs": [
    {
     "name": "stdout",
     "output_type": "stream",
     "text": [
      "Accuracy on 10 clusters: 55.59 %\n"
     ]
    }
   ],
   "source": [
    "kmeans_labels = np.zeros(Y_train.shape)\n",
    "for i in range(len(kmeans.labels_)):\n",
    "    kmeans_labels[i] = true_labels[kmeans.labels_[i]]\n",
    "print(\"Accuracy on 10 clusters:\", round(accuracy_score(kmeans_labels,Y_train)*100,2), \"%\")"
   ]
  },
  {
   "cell_type": "code",
   "execution_count": 7,
   "metadata": {
    "pycharm": {
     "name": "#%%\n"
    }
   },
   "outputs": [
    {
     "name": "stdout",
     "output_type": "stream",
     "text": [
      "Accuracy on 5 clusters: 39.28 %\n",
      "Accuracy on 10 clusters: 55.59 %\n",
      "Accuracy on 36 clusters: 78.03 %\n",
      "Accuracy on 64 clusters: 82.16 %\n",
      "Accuracy on 256 clusters: 90.06 %\n",
      "Accuracy on 360 clusters: 91.21 %\n"
     ]
    },
    {
     "data": {
      "image/png": "[encoded data removed]",
      "text/plain": [
       "<Figure size 432x288 with 1 Axes>"
      ]
     },
     "metadata": {
      "needs_background": "light"
     },
     "output_type": "display_data"
    },
    {
     "data": {
      "image/png": "[encoded data removed]",
      "text/plain": [
       "<Figure size 432x288 with 1 Axes>"
      ]
     },
     "metadata": {
      "needs_background": "light"
     },
     "output_type": "display_data"
    }
   ],
   "source": [
    "# Technically, increasing n_cluster will give better results\n",
    "def test_different_Ks(X):\n",
    "    accuracies = []\n",
    "    inertias = []\n",
    "    K = [5, 10, 36, 64, 256, 360]\n",
    "\n",
    "    for k in K:\n",
    "        kmeans = MiniBatchKMeans(n_clusters=k, random_state=42)\n",
    "        kmeans.fit(X)\n",
    "\n",
    "        inertias.append(kmeans.inertia_)\n",
    "        true_labels = associate_labels(n_clusters, kmeans.labels_, Y_train)\n",
    "        kmeans_labels = np.zeros(Y_train.shape)\n",
    "        for i in range(len(kmeans.labels_)):\n",
    "            kmeans_labels[i] = true_labels[kmeans.labels_[i]]\n",
    "        accuracy = accuracy_score(kmeans_labels,Y_train)\n",
    "        accuracies.append(accuracy)\n",
    "        print(\"Accuracy on\",k,\"clusters:\", round(accuracy*100,2), \"%\")\n",
    "\n",
    "    plt.plot(K, inertias, 'bx-')\n",
    "    plt.xlabel('Values of K')\n",
    "    plt.ylabel('Inertia')\n",
    "    plt.title('The Elbow Method using Inertia')\n",
    "    plt.show()\n",
    "\n",
    "    plt.plot(K, accuracies, 'bx-')\n",
    "    plt.xlabel('Values of K')\n",
    "    plt.ylabel('Accuracy')\n",
    "    plt.title('Accuracy depending on K')\n",
    "    plt.show()\n",
    "    \n",
    "test_different_Ks(X_train)"
   ]
  },
  {
   "cell_type": "code",
   "execution_count": 8,
   "metadata": {
    "pycharm": {
     "name": "#%%\n"
    }
   },
   "outputs": [
    {
     "name": "stdout",
     "output_type": "stream",
     "text": [
      "Model: \"model\"\n",
      "_________________________________________________________________\n",
      "Layer (type)                 Output Shape              Param #   \n",
      "=================================================================\n",
      "input_1 (InputLayer)         [(None, 28, 28, 1)]       0         \n",
      "_________________________________________________________________\n",
      "conv2d (Conv2D)              (None, 28, 28, 16)        160       \n",
      "_________________________________________________________________\n",
      "max_pooling2d (MaxPooling2D) (None, 14, 14, 16)        0         \n",
      "_________________________________________________________________\n",
      "conv2d_1 (Conv2D)            (None, 14, 14, 8)         1160      \n",
      "_________________________________________________________________\n",
      "max_pooling2d_1 (MaxPooling2 (None, 7, 7, 8)           0         \n",
      "_________________________________________________________________\n",
      "flatten (Flatten)            (None, 392)               0         \n",
      "_________________________________________________________________\n",
      "dense (Dense)                (None, 196)               77028     \n",
      "_________________________________________________________________\n",
      "dense_1 (Dense)              (None, 14)                2758      \n",
      "_________________________________________________________________\n",
      "dense_2 (Dense)              (None, 196)               2940      \n",
      "_________________________________________________________________\n",
      "dense_3 (Dense)              (None, 392)               77224     \n",
      "_________________________________________________________________\n",
      "reshape (Reshape)            (None, 7, 7, 8)           0         \n",
      "_________________________________________________________________\n",
      "conv2d_2 (Conv2D)            (None, 7, 7, 8)           584       \n",
      "_________________________________________________________________\n",
      "up_sampling2d (UpSampling2D) (None, 14, 14, 8)         0         \n",
      "_________________________________________________________________\n",
      "conv2d_3 (Conv2D)            (None, 14, 14, 16)        1168      \n",
      "_________________________________________________________________\n",
      "up_sampling2d_1 (UpSampling2 (None, 28, 28, 16)        0         \n",
      "_________________________________________________________________\n",
      "conv2d_4 (Conv2D)            (None, 28, 28, 1)         145       \n",
      "=================================================================\n",
      "Total params: 163,167\n",
      "Trainable params: 163,167\n",
      "Non-trainable params: 0\n",
      "_________________________________________________________________\n",
      "None\n"
     ]
    }
   ],
   "source": [
    "# Train Convolutional AutoEncoder\n",
    "tf.random.set_seed(42)\n",
    "\n",
    "input_img = keras.Input(shape=(28, 28, 1))\n",
    "\n",
    "x = keras.layers.Conv2D(16, (3, 3), activation='relu', padding='same')(input_img)\n",
    "x = keras.layers.MaxPooling2D((2, 2), padding='same')(x)\n",
    "x = keras.layers.Conv2D(8, (3, 3), activation='relu', padding='same')(x)\n",
    "x = keras.layers.MaxPooling2D((2, 2), padding='same')(x)\n",
    "x = keras.layers.Flatten()(x)\n",
    "x = keras.layers.Dense(196, activation='relu')(x)\n",
    "encoded = keras.layers.Dense(14, activation='relu')(x)\n",
    "\n",
    "x = keras.layers.Dense(196, activation='relu')(encoded)\n",
    "x = keras.layers.Dense(392, activation='relu')(x)\n",
    "x = keras.layers.Reshape((7,7,8))(x)\n",
    "x = keras.layers.Conv2D(8, (3, 3), activation='relu', padding='same')(x)\n",
    "x = keras.layers.UpSampling2D((2, 2))(x)\n",
    "x = keras.layers.Conv2D(16, (3, 3), activation='relu', padding='same')(x)\n",
    "x = keras.layers.UpSampling2D((2, 2))(x)\n",
    "decoded = keras.layers.Conv2D(1, (3, 3), activation='sigmoid', padding='same')(x)\n",
    "\n",
    "cae = keras.Model(input_img, decoded)\n",
    "cae.compile(optimizer='adam', loss='binary_crossentropy')\n",
    "print(cae.summary())"
   ]
  },
  {
   "cell_type": "code",
   "execution_count": 9,
   "metadata": {
    "pycharm": {
     "is_executing": true,
     "name": "#%%\n"
    }
   },
   "outputs": [
    {
     "name": "stdout",
     "output_type": "stream",
     "text": [
      "Epoch 1/50\n",
      "469/469 [==============================] - 8s 11ms/step - loss: 0.2099 - val_loss: 0.1399\n",
      "Epoch 2/50\n",
      "469/469 [==============================] - 5s 10ms/step - loss: 0.1324 - val_loss: 0.1254\n",
      "Epoch 3/50\n",
      "469/469 [==============================] - 5s 11ms/step - loss: 0.1235 - val_loss: 0.1194\n",
      "Epoch 4/50\n",
      "469/469 [==============================] - 5s 10ms/step - loss: 0.1186 - val_loss: 0.1154\n",
      "Epoch 5/50\n",
      "469/469 [==============================] - 5s 11ms/step - loss: 0.1152 - val_loss: 0.1128\n",
      "Epoch 6/50\n",
      "469/469 [==============================] - 5s 10ms/step - loss: 0.1126 - val_loss: 0.1103\n",
      "Epoch 7/50\n",
      "469/469 [==============================] - 5s 11ms/step - loss: 0.1107 - val_loss: 0.1086\n",
      "Epoch 8/50\n",
      "469/469 [==============================] - 5s 10ms/step - loss: 0.1093 - val_loss: 0.1076\n",
      "Epoch 9/50\n",
      "469/469 [==============================] - 5s 10ms/step - loss: 0.1079 - val_loss: 0.1075\n",
      "Epoch 10/50\n",
      "469/469 [==============================] - 5s 11ms/step - loss: 0.1070 - val_loss: 0.1055\n",
      "Epoch 11/50\n",
      "469/469 [==============================] - 5s 10ms/step - loss: 0.1062 - val_loss: 0.1048\n",
      "Epoch 12/50\n",
      "469/469 [==============================] - 5s 10ms/step - loss: 0.1054 - val_loss: 0.1041\n",
      "Epoch 13/50\n",
      "469/469 [==============================] - 5s 10ms/step - loss: 0.1047 - val_loss: 0.1040\n",
      "Epoch 14/50\n",
      "469/469 [==============================] - 5s 10ms/step - loss: 0.1042 - val_loss: 0.1033\n",
      "Epoch 15/50\n",
      "469/469 [==============================] - 5s 11ms/step - loss: 0.1037 - val_loss: 0.1029\n",
      "Epoch 16/50\n",
      "469/469 [==============================] - 5s 10ms/step - loss: 0.1032 - val_loss: 0.1023\n",
      "Epoch 17/50\n",
      "469/469 [==============================] - 5s 10ms/step - loss: 0.1028 - val_loss: 0.1020\n",
      "Epoch 18/50\n",
      "469/469 [==============================] - 5s 10ms/step - loss: 0.1024 - val_loss: 0.1019\n",
      "Epoch 19/50\n",
      "469/469 [==============================] - 5s 10ms/step - loss: 0.1020 - val_loss: 0.1015\n",
      "Epoch 20/50\n",
      "469/469 [==============================] - 5s 10ms/step - loss: 0.1016 - val_loss: 0.1009\n",
      "Epoch 21/50\n",
      "469/469 [==============================] - 5s 10ms/step - loss: 0.1013 - val_loss: 0.1010\n",
      "Epoch 22/50\n",
      "469/469 [==============================] - 5s 10ms/step - loss: 0.1011 - val_loss: 0.1008\n",
      "Epoch 23/50\n",
      "469/469 [==============================] - 5s 10ms/step - loss: 0.1008 - val_loss: 0.0998\n",
      "Epoch 24/50\n",
      "469/469 [==============================] - 5s 10ms/step - loss: 0.1005 - val_loss: 0.1000\n",
      "Epoch 25/50\n",
      "469/469 [==============================] - 5s 10ms/step - loss: 0.1002 - val_loss: 0.0999\n",
      "Epoch 26/50\n",
      "469/469 [==============================] - 5s 10ms/step - loss: 0.1001 - val_loss: 0.0995\n",
      "Epoch 27/50\n",
      "469/469 [==============================] - 5s 11ms/step - loss: 0.0998 - val_loss: 0.0995\n",
      "Epoch 28/50\n",
      "469/469 [==============================] - 5s 11ms/step - loss: 0.0996 - val_loss: 0.0991\n",
      "Epoch 29/50\n",
      "469/469 [==============================] - 5s 10ms/step - loss: 0.0995 - val_loss: 0.0991\n",
      "Epoch 30/50\n",
      "469/469 [==============================] - 5s 10ms/step - loss: 0.0993 - val_loss: 0.0990\n",
      "Epoch 31/50\n",
      "469/469 [==============================] - 5s 10ms/step - loss: 0.0991 - val_loss: 0.0986\n",
      "Epoch 32/50\n",
      "469/469 [==============================] - 5s 11ms/step - loss: 0.0989 - val_loss: 0.0984\n",
      "Epoch 33/50\n",
      "469/469 [==============================] - 5s 10ms/step - loss: 0.0988 - val_loss: 0.0985\n",
      "Epoch 34/50\n",
      "469/469 [==============================] - 5s 10ms/step - loss: 0.0986 - val_loss: 0.0984\n",
      "Epoch 35/50\n",
      "469/469 [==============================] - 5s 10ms/step - loss: 0.0984 - val_loss: 0.0983\n",
      "Epoch 36/50\n",
      "469/469 [==============================] - 5s 10ms/step - loss: 0.0984 - val_loss: 0.0979\n",
      "Epoch 37/50\n",
      "469/469 [==============================] - 5s 10ms/step - loss: 0.0981 - val_loss: 0.0978\n",
      "Epoch 38/50\n",
      "469/469 [==============================] - 5s 11ms/step - loss: 0.0980 - val_loss: 0.0981\n",
      "Epoch 39/50\n",
      "469/469 [==============================] - 5s 11ms/step - loss: 0.0979 - val_loss: 0.0981\n",
      "Epoch 40/50\n",
      "469/469 [==============================] - 5s 11ms/step - loss: 0.0977 - val_loss: 0.0975\n",
      "Epoch 41/50\n",
      "469/469 [==============================] - 5s 11ms/step - loss: 0.0977 - val_loss: 0.0974\n",
      "Epoch 42/50\n",
      "469/469 [==============================] - 5s 11ms/step - loss: 0.0975 - val_loss: 0.0978\n",
      "Epoch 43/50\n",
      "469/469 [==============================] - 5s 10ms/step - loss: 0.0974 - val_loss: 0.0971\n",
      "Epoch 44/50\n",
      "469/469 [==============================] - 5s 10ms/step - loss: 0.0973 - val_loss: 0.0968\n",
      "Epoch 45/50\n",
      "469/469 [==============================] - 5s 11ms/step - loss: 0.0972 - val_loss: 0.0972\n",
      "Epoch 46/50\n",
      "469/469 [==============================] - 5s 10ms/step - loss: 0.0971 - val_loss: 0.0970\n",
      "Epoch 47/50\n",
      "469/469 [==============================] - 5s 10ms/step - loss: 0.0969 - val_loss: 0.0969\n",
      "Epoch 48/50\n",
      "469/469 [==============================] - 5s 11ms/step - loss: 0.0969 - val_loss: 0.0968\n",
      "Epoch 49/50\n",
      "469/469 [==============================] - 5s 11ms/step - loss: 0.0968 - val_loss: 0.0967\n",
      "Epoch 50/50\n",
      "469/469 [==============================] - 5s 11ms/step - loss: 0.0967 - val_loss: 0.0978\n"
     ]
    },
    {
     "data": {
      "text/plain": [
       "<keras.callbacks.History at 0x270a21be6a0>"
      ]
     },
     "execution_count": 9,
     "metadata": {},
     "output_type": "execute_result"
    }
   ],
   "source": [
    "X_train = np.reshape(X_train, (len(X_train), 28, 28, 1))\n",
    "X_test = np.reshape(X_test, (len(X_test), 28, 28, 1))\n",
    "\n",
    "early_stopping = keras.callbacks.EarlyStopping(monitor='val_loss', min_delta=0, patience=2, verbose=0, mode='auto') \n",
    "cae.fit(X_train, X_train, epochs=50, batch_size=128, validation_data=(X_test, X_test), verbose=1)"
   ]
  },
  {
   "cell_type": "code",
   "execution_count": 10,
   "metadata": {
    "pycharm": {
     "is_executing": true,
     "name": "#%%\n"
    }
   },
   "outputs": [
    {
     "name": "stdout",
     "output_type": "stream",
     "text": [
      "Accuracy on 10 clusters: 75.3 %\n",
      "Accuracy on 5 clusters: 45.44 %\n",
      "Accuracy on 10 clusters: 75.3 %\n",
      "Accuracy on 36 clusters: 85.86 %\n",
      "Accuracy on 64 clusters: 89.37 %\n",
      "Accuracy on 256 clusters: 92.63 %\n",
      "Accuracy on 360 clusters: 93.22 %\n"
     ]
    },
    {
     "data": {
      "image/png": "[encoded data removed]",
      "text/plain": [
       "<Figure size 432x288 with 1 Axes>"
      ]
     },
     "metadata": {
      "needs_background": "light"
     },
     "output_type": "display_data"
    },
    {
     "data": {
      "image/png": "[encoded data removed]",
      "text/plain": [
       "<Figure size 432x288 with 1 Axes>"
      ]
     },
     "metadata": {
      "needs_background": "light"
     },
     "output_type": "display_data"
    }
   ],
   "source": [
    "# Retry K-Means clustering on CAE encoding\n",
    "\n",
    "encoder = keras.Model(input_img, encoded)\n",
    "encoded_X_train = encoder.predict(X_train)\n",
    "encoded_X_train = encoded_X_train.reshape(len(X_train), -1)\n",
    "\n",
    "n_clusters = 10\n",
    "kmeans = MiniBatchKMeans(n_clusters=n_clusters, random_state=42)\n",
    "kmeans.fit(encoded_X_train)\n",
    "\n",
    "true_labels = associate_labels(n_clusters, kmeans.labels_, Y_train)\n",
    "\n",
    "kmeans_labels = np.zeros(Y_train.shape)\n",
    "for i in range(len(kmeans.labels_)):\n",
    "    kmeans_labels[i] = true_labels[kmeans.labels_[i]]\n",
    "print(\"Accuracy on 10 clusters:\", round(accuracy_score(kmeans_labels,Y_train)*100,2), \"%\")\n",
    "\n",
    "test_different_Ks(encoded_X_train)"
   ]
  },
  {
   "cell_type": "markdown",
   "metadata": {},
   "source": [
    "<u><b>K-Means with autoencoder improvement : </b></u>\n",
    "<li>Accuracy on 5 clusters went from 39.28 % to 45.44 %</li>\n",
    "<li>Accuracy on 10 clusters went from 55.59 % to 75.3 %</li>\n",
    "<li>Accuracy on 36 clusters went from 78.03 % to 85.86 %</li>\n",
    "<li>Accuracy on 64 clusters went from 82.16 % to 87.37 %</li>\n",
    "<li>Accuracy on 256 clusters went from 90.06 % to 92.63 %</li>\n",
    "<li>Accuracy on 360 clusters went from 91.21 % to 93.22 %</li>"
   ]
  },
  {
   "cell_type": "code",
   "execution_count": null,
   "metadata": {},
   "outputs": [],
   "source": []
  }
 ],
 "metadata": {
  "kernelspec": {
   "display_name": "Python 3 (ipykernel)",
   "language": "python",
   "name": "python3"
  },
  "language_info": {
   "codemirror_mode": {
    "name": "ipython",
    "version": 3
   },
   "file_extension": ".py",
   "mimetype": "text/x-python",
   "name": "python",
   "nbconvert_exporter": "python",
   "pygments_lexer": "ipython3",
   "version": "3.8.6"
  }
 },
 "nbformat": 4,
 "nbformat_minor": 1
}
